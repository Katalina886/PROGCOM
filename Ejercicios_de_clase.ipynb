{
  "nbformat": 4,
  "nbformat_minor": 0,
  "metadata": {
    "colab": {
      "provenance": []
    },
    "kernelspec": {
      "name": "python3",
      "display_name": "Python 3"
    },
    "language_info": {
      "name": "python"
    }
  },
  "cells": [
    {
      "cell_type": "markdown",
      "source": [
        "#ejercicio\n",
        "solicite un valor e imprima que tipo de dato es: Ejemplo\n",
        "* Ingreso: \"A\"\n",
        "* Imprime: str\n",
        "* ingreso: 1\n",
        "* imprime: int\n",
        "# try (algo) :/ exept(algo):\n",
        "El programa jecuta una operacion invalida.\n",
        "* break: Para romper un ciclo\n",
        "pass: permite que una clase o una funcion vacia se ejecute.\n",
        "* None: Es el valor nada de cualquier estructura de datos.\n"
      ],
      "metadata": {
        "id": "yIgiPoIkIsr2"
      }
    },
    {
      "cell_type": "code",
      "execution_count": 7,
      "metadata": {
        "colab": {
          "base_uri": "https://localhost:8080/"
        },
        "id": "4yPHY8kKIgyD",
        "outputId": "d5728de4-aa87-409f-cfa0-48be88b240d7"
      },
      "outputs": [
        {
          "output_type": "stream",
          "name": "stdout",
          "text": [
            "Ingrese una letra7\n",
            "7 es una variable de tipo <class 'int'>\n"
          ]
        }
      ],
      "source": [
        "#Respuesta pra:v\n",
        "letra=input(\"Ingrese una letra\")\n",
        "num=None\n",
        "for conv in (int,float):\n",
        "  try:\n",
        "    num=conv(letra)\n",
        "    break\n",
        "  except ValueError:\n",
        "    pass\n",
        "if num==None: print(f\"{letra} es una variable de tipo {type(letra)}\")\n",
        "else: print(f\"{letra} es una variable de tipo {type(num)}\")"
      ]
    },
    {
      "cell_type": "code",
      "source": [
        "a=int(input(\"Ingrese el dividendo\"))\n",
        "b=int(input(\"Ingrese el divisor\"))\n",
        "try:\n",
        "        division=a/b\n",
        "        print(f\"{a}/{b}={division}\")\n",
        "except ZeroDivisionError:\n",
        "        print(\"Infinito\")"
      ],
      "metadata": {
        "colab": {
          "base_uri": "https://localhost:8080/"
        },
        "id": "dncdbXdTMrmb",
        "outputId": "dd7bef84-3f62-49dd-fd11-f95487ac3713"
      },
      "execution_count": 13,
      "outputs": [
        {
          "output_type": "stream",
          "name": "stdout",
          "text": [
            "Ingrese el dividendo2\n",
            "Ingrese el divisor0\n",
            "Infinito\n"
          ]
        }
      ]
    },
    {
      "cell_type": "markdown",
      "source": [
        "Hacer un programa que te pregunte si quiere helado, si la respuesta es si, que sabor de helado.\n"
      ],
      "metadata": {
        "id": "4OMZ5Q3UO3-Z"
      }
    },
    {
      "cell_type": "code",
      "source": [
        "a=input(\"Quieres helado?\")\n",
        "a=a[0].lower()\n",
        "if a==\"s\":\n",
        "  f=input(\"Que sabor quieres?\")\n",
        "  if f==\"chocolate\": print(f\"Aqui esta su helado de {f}. me debe 5000\")\n",
        "  elif f==\"vainilla\": print(f\"Aqui esta su helado de {f}. me debe 4000\")\n",
        "  elif f==\"fresa\": print(f\"Aqui esta su helado de {f}. me debe 10000\")\n",
        "  elif f==\"Ron con pasas\": print(f\"Aqui esta su helado de {f}. me debe 7000\")\n",
        "  else: print(\"Lo siento, no tenemos ese sabor\")\n",
        "else:\n",
        "  print(\"T bueno... a poco que ni queria :(\")"
      ],
      "metadata": {
        "colab": {
          "base_uri": "https://localhost:8080/"
        },
        "id": "UBt59yz6PAwZ",
        "outputId": "20032b9f-e97d-4333-d854-7d0fd388f2d5"
      },
      "execution_count": 21,
      "outputs": [
        {
          "output_type": "stream",
          "name": "stdout",
          "text": [
            "Quieres helado?si\n",
            "Que sabor quieres?vainilla\n",
            "Aqui esta su helado de vainilla. me debe 4000\n"
          ]
        }
      ]
    },
    {
      "cell_type": "code",
      "source": [
        "a=input(\"Quieres helado?\")\n",
        "a=a[0].lower()\n",
        "if a==\"s\":\n",
        "  f=input(\"Que sabor quieres?\")\n",
        "  match f:\n",
        "   case\"chocolate\": print(f\"Aqui esta su helado de {f}. me debe 5000\")\n",
        "   case\"vainilla\": print(f\"Aqui esta su helado de {f}. me debe 4000\")\n",
        "   case \"fresa\": print(f\"Aqui esta su helado de {f}. me debe 10000\")\n",
        "   case\"Ron con pasas\": print(f\"Aqui esta su helado de {f}. me debe 7000\")\n",
        "   case _: print(\"Lo siento, no tenemos ese sabor\")\n",
        "else:\n",
        "  print(\"T bueno... a poco que ni queria :(\")"
      ],
      "metadata": {
        "colab": {
          "base_uri": "https://localhost:8080/"
        },
        "id": "dwqfYv7oRyfe",
        "outputId": "3f060bf5-105e-46d2-be22-8984bbf41fca"
      },
      "execution_count": 22,
      "outputs": [
        {
          "output_type": "stream",
          "name": "stdout",
          "text": [
            "Quieres helado?si\n",
            "Que sabor quieres?chocolate\n",
            "Aqui esta su helado de chocolate. me debe 5000\n"
          ]
        }
      ]
    },
    {
      "cell_type": "markdown",
      "source": [
        "Ejercicios ejemplos:\n",
        " 1. Decir si una letra es vocal mayuscula o minuscula.\n",
        " 2. Decir si un dia es fin de semana o si es entre semana\n",
        " 3. Desarrolle un clasificador de animales: debe identificar si el animal es ave, mamifero o reptil, Pruebelo con los siguientes animales: aguila,loro,leon,tigre,cocodrilo,piton.\n",
        " 4.  "
      ],
      "metadata": {
        "id": "04MCVdfoUNA0"
      }
    },
    {
      "cell_type": "code",
      "source": [
        " #Decir si una letra es vocal mayuscula o minuscula.\n",
        " letra=input(\"Ingrese una letra\")\n",
        " match letra:\n",
        "   case \"a\"|\"e\"|\"i\"|\"o\"|\"u\": print(\"Es una vocal miniscula\")\n",
        "   case \"A\"|\"E\"|\"I\"|\"O\"|\"U\": print(\"Es una vocal mayusula\")\n",
        "   case _: print(\"No es una vocal\")\n"
      ],
      "metadata": {
        "colab": {
          "base_uri": "https://localhost:8080/"
        },
        "id": "8paZbLwEUaKM",
        "outputId": "5faf2c37-6796-4ec0-82f7-233533c6643d"
      },
      "execution_count": 31,
      "outputs": [
        {
          "output_type": "stream",
          "name": "stdout",
          "text": [
            "Ingrese una letraA\n",
            "Es una vocal mayusula\n"
          ]
        }
      ]
    },
    {
      "cell_type": "code",
      "source": [
        "#Elif\n",
        "letra=input(\"Ingrese una letra\")\n",
        "if letra in 'aeiou':\n",
        "  print(\"Es una vocal minuscula\")\n",
        "elif letra in 'AEIOU':\n",
        "    print(\"es una vocal mayuscula\")\n"
      ],
      "metadata": {
        "colab": {
          "base_uri": "https://localhost:8080/"
        },
        "id": "JvzOHgqlVYTi",
        "outputId": "140714d5-7b4e-4038-c2cd-164b5ab9e4ed"
      },
      "execution_count": 34,
      "outputs": [
        {
          "output_type": "stream",
          "name": "stdout",
          "text": [
            "Ingrese una letrau\n",
            "Es una vocal minuscula\n"
          ]
        }
      ]
    },
    {
      "cell_type": "markdown",
      "source": [
        "EJERCICIOS #2\n"
      ],
      "metadata": {
        "id": "NE-6XJsoYp_R"
      }
    },
    {
      "cell_type": "markdown",
      "source": [
        "#Hallar el mayor de 5 numeros, el programa debe validar que todos los numeros sean diferentes\n",
        "\n"
      ],
      "metadata": {
        "id": "ffyqYNIUYtMo"
      }
    },
    {
      "cell_type": "code",
      "source": [
        "\n",
        "num1 = float(input(\"Introduce el primer número: \"))\n",
        "num2 = float(input(\"Introduce el segundo número: \"))\n",
        "num3 = float(input(\"Introduce el tercer número: \"))\n",
        "num4 = float(input(\"Introduce el cuarto número: \"))\n",
        "num5 = float(input(\"Introduce el quinto número: \"))\n",
        "todos_diferentes = (num1 != num2) and (num1 != num3) and (num1 != num4) and (num1 != num5) and \\\n",
        "                   (num2 != num3) and (num2 != num4) and (num2 != num5) and \\\n",
        "                   (num3 != num4) and (num3 != num5) and \\\n",
        "                   (num4 != num5)\n",
        "mayor = (num1 if (todos_diferentes and (num1 > num2 and num1 > num3 and num1 > num4 and num1 > num5)) else\n",
        "         num2 if (todos_diferentes and (num2 > num3 and num2 > num4 and num2 > num5)) else\n",
        "         num3 if (todos_diferentes and (num3 > num4 and num3 > num5)) else\n",
        "         num4 if (todos_diferentes and (num4 > num5)) else\n",
        "         num5 if todos_diferentes else\n",
        "         \"Todos los números deben ser diferentes\")\n",
        "\n",
        "print(f\"El mayor número es: {mayor}\" if todos_diferentes else \"Todos los números deben ser diferentes.\")\n"
      ],
      "metadata": {
        "colab": {
          "base_uri": "https://localhost:8080/"
        },
        "id": "YBD1mx1WZLEu",
        "outputId": "92ac467d-7d98-45ab-f454-d7081d05ea17"
      },
      "execution_count": 37,
      "outputs": [
        {
          "output_type": "stream",
          "name": "stdout",
          "text": [
            "Introduce el primer número: 6 \n",
            "Introduce el segundo número: 5\n",
            "Introduce el tercer número: 8\n",
            "Introduce el cuarto número: 9\n",
            "Introduce el quinto número: 4\n",
            "El mayor número es: 9.0\n"
          ]
        }
      ]
    },
    {
      "cell_type": "markdown",
      "source": [
        "3.En el ejercicio de las vocales ademas de decidir si es mayuscula o minuscula, informarle al usuario cuando este introduce un caracter difrente a una vocal"
      ],
      "metadata": {
        "id": "5v9s6dIPe8Nj"
      }
    },
    {
      "cell_type": "code",
      "source": [
        " #match\n",
        " letra=input(\"Ingrese una letra\")\n",
        " match letra:\n",
        "   case \"a\"|\"e\"|\"i\"|\"o\"|\"u\":\n",
        "     print(\"Es una vocal miniscula\")\n",
        "   case \"A\"|\"E\"|\"I\"|\"O\"|\"U\":\n",
        "    print(\"Es una vocal mayusula\")\n",
        "   case _:\n",
        "    print(\"No es una vocal\")\n",
        "#Elif\n",
        "letra=input(\"Ingrese una letra\")\n",
        "if letra in 'aeiou':\n",
        "  print(\"Es una vocal minuscula\")\n",
        "elif letra in 'AEIOU':\n",
        "  print(\"es una vocal mayuscula\")\n",
        "else:\n",
        "  print(\"No es una vocal\")"
      ],
      "metadata": {
        "colab": {
          "base_uri": "https://localhost:8080/"
        },
        "id": "-xtKVY40dT9k",
        "outputId": "90c514f1-2049-46c2-9c09-bb79fd3cd974"
      },
      "execution_count": 44,
      "outputs": [
        {
          "output_type": "stream",
          "name": "stdout",
          "text": [
            "Ingrese una letrac\n",
            "No es una vocal\n",
            "Ingrese una letras\n",
            "No es una vocal\n"
          ]
        }
      ]
    },
    {
      "cell_type": "markdown",
      "source": [
        "2.Se presenta 3 personas: Definir cual es el mayoe de los 3 Definir de acuerdo a su edad si es adulto, adolecente o niño."
      ],
      "metadata": {
        "id": "JRNPiMYpfXWC"
      }
    },
    {
      "cell_type": "code",
      "source": [
        "\n",
        "edad1 = int(input(\"Ingrese la edad de la Persona 1: \"))\n",
        "edad2 = int(input(\"Ingrese la edad de la Persona 2: \"))\n",
        "edad3 = int(input(\"Ingrese la edad de la Persona 3: \"))\n",
        "mayor = 'Persona 1' if edad1 > edad2 and edad1 > edad3 else 'Persona 2' if edad2 > edad3 else 'Persona 3'\n",
        "categoria1 = 'Adulto' if edad1 >= 18 else 'Adolescente' if edad1 >= 13 else 'Niño'\n",
        "categoria2 = 'Adulto' if edad2 >= 18 else 'Adolescente' if edad2 >= 13 else 'Niño'\n",
        "categoria3 = 'Adulto' if edad3 >= 18 else 'Adolescente' if edad3 >= 13 else 'Niño'\n",
        "print(f\"La persona mayor es: {mayor}\")\n",
        "print(f\"Categoría de Persona 1: {categoria1}\")\n",
        "print(f\"Categoría de Persona 2: {categoria2}\")\n",
        "print(f\"Categoría de Persona 3: {categoria3}\")\n"
      ],
      "metadata": {
        "colab": {
          "base_uri": "https://localhost:8080/"
        },
        "id": "4mWFkk_xfLVK",
        "outputId": "8439bb2c-740b-47e5-ac7c-88e5cfd323ce"
      },
      "execution_count": 45,
      "outputs": [
        {
          "output_type": "stream",
          "name": "stdout",
          "text": [
            "Ingrese la edad de la Persona 1: 10\n",
            "Ingrese la edad de la Persona 2: 62\n",
            "Ingrese la edad de la Persona 3: 36\n",
            "La persona mayor es: Persona 2\n",
            "Categoría de Persona 1: Niño\n",
            "Categoría de Persona 2: Adulto\n",
            "Categoría de Persona 3: Adulto\n"
          ]
        }
      ]
    }
  ]
}