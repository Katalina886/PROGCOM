{
  "nbformat": 4,
  "nbformat_minor": 0,
  "metadata": {
    "colab": {
      "provenance": []
    },
    "kernelspec": {
      "name": "python3",
      "display_name": "Python 3"
    },
    "language_info": {
      "name": "python"
    }
  },
  "cells": [
    {
      "cell_type": "markdown",
      "source": [
        "#INTEGRANTES:\n",
        "\n",
        "\n",
        "*   Diego Manjarres\n",
        "*   Michelle Gomez\n",
        "*   Katalina Parada\n",
        "\n",
        "\n",
        "\n",
        "\n",
        "\n"
      ],
      "metadata": {
        "id": "A6YDP_A5JpyZ"
      }
    },
    {
      "cell_type": "code",
      "execution_count": null,
      "metadata": {
        "colab": {
          "base_uri": "https://localhost:8080/"
        },
        "id": "yJOoWb0mJSWv",
        "outputId": "b9779243-2bb5-4f5f-93af-d2bfc0343ad8"
      },
      "outputs": [
        {
          "output_type": "stream",
          "name": "stdout",
          "text": [
            "REPORTE DE CALIFICACIONES\n",
            "Nombre              Nota 1    Nota 2    Nota 3    Nota Final\n"
          ]
        }
      ],
      "source": [
        "\n",
        "print(\"REPORTE DE CALIFICACIONES\")\n",
        "print(f\"{'Nombre':<20}{'Nota 1':<10}{'Nota 2':<10}{'Nota 3':<10}{'Nota Final':<10}\")\n",
        "\n",
        "\n",
        "for i in range(15):\n",
        "    nombre = input(f\"Ingrese el nombre del estudiante {i+1}: \")\n",
        "\n",
        "\n",
        "    nota1 = float(input(\"Ingrese la nota 1: \"))\n",
        "    nota2 = float(input(\"Ingrese la nota 2: \"))\n",
        "    nota3 = float(input(\"Ingrese la nota 3: \"))\n",
        "\n",
        "\n",
        "    if nota1 < 70 or nota2 < 70 or nota3 < 70:\n",
        "        nota_final = \"NA\"\n",
        "    else:\n",
        "        nota_final = (nota1 + nota2 + nota3) / 3\n",
        "\n",
        "    print(f\"{nombre:<20}{nota1:<10}{nota2:<10}{nota3:<10}{nota_final:<10}\")\n",
        "\n"
      ]
    }
  ]
}