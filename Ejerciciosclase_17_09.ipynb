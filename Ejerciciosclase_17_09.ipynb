{
  "nbformat": 4,
  "nbformat_minor": 0,
  "metadata": {
    "colab": {
      "provenance": []
    },
    "kernelspec": {
      "name": "python3",
      "display_name": "Python 3"
    },
    "language_info": {
      "name": "python"
    }
  },
  "cells": [
    {
      "cell_type": "code",
      "execution_count": null,
      "metadata": {
        "colab": {
          "base_uri": "https://localhost:8080/"
        },
        "id": "37E7Q40uLA-D",
        "outputId": "dc007c25-395c-4070-c7bb-470f810e82e0"
      },
      "outputs": [
        {
          "output_type": "stream",
          "name": "stdout",
          "text": [
            "Digite su nombre: KATALINA PARADA\n",
            "Digite su código: U00172119\n",
            "\n",
            "UNIVERSIDAD AUTÓNOMA DE BUCARAMANGA\n",
            "Nombre del estudiante: KATALINA PARADA\n",
            "Código: U00172119\n"
          ]
        }
      ],
      "source": [
        "#1.Programa para solicitar nombre y código del estudiante e imprimir la información junto con el logo\n",
        "nombre = input(\"Digite su nombre: \")\n",
        "codigo = input(\"Digite su código: \")\n",
        "\n",
        "\n",
        "print(\"\\nUNIVERSIDAD AUTÓNOMA DE BUCARAMANGA\")\n",
        "print(f\"Nombre del estudiante: {nombre}\")\n",
        "print(f\"Código: {codigo}\")"
      ]
    },
    {
      "cell_type": "code",
      "source": [
        "#2. Diseñe un algoritmo para calcular el volumen de un cono.\n",
        "import math\n",
        "def calcular_volumen_cono(radio, altura):\n",
        "    volumen = (1/3) * math.pi * radio**2 * altura\n",
        "    return volumen\n",
        "\n",
        "radio = float(input(\"Digite el radio de la base del cono: \"))\n",
        "altura = float(input(\"Digite la altura del cono: \"))\n",
        "\n",
        "\n",
        "volumen = calcular_volumen_cono(radio, altura)\n",
        "\n",
        "print(f\"\\nEl volumen del cono es: {volumen:.2f} unidades cúbicas\")\n"
      ],
      "metadata": {
        "colab": {
          "base_uri": "https://localhost:8080/"
        },
        "id": "qt_DA4LSdjqs",
        "outputId": "34874248-49cb-49d9-84b3-2921f79fd1f1"
      },
      "execution_count": null,
      "outputs": [
        {
          "output_type": "stream",
          "name": "stdout",
          "text": [
            "Digite el radio de la base del cono: 1\n",
            "Digite la altura del cono: 2\n",
            "\n",
            "El volumen del cono es: 2.09 unidades cúbicas\n"
          ]
        }
      ]
    },
    {
      "cell_type": "code",
      "source": [
        "#3. Dado el conjunto de n servidores que apoyen una red de computadores, diseñe un programa que calcule el número total de conexiones entre los servidores que soportan la red.\n",
        "n =int(input(\"Introduce el numero de servidores: \"))\n",
        "numero_conexiones = ( n * (n-1)) //2\n",
        "print(\"El numero total de conexiones entre los servidores es:\", numero_conexiones)"
      ],
      "metadata": {
        "colab": {
          "base_uri": "https://localhost:8080/"
        },
        "id": "TrjCekIQh5aY",
        "outputId": "4ff3a9af-96e9-46c0-e122-418c190b56f5"
      },
      "execution_count": null,
      "outputs": [
        {
          "output_type": "stream",
          "name": "stdout",
          "text": [
            "Introduce el numero de servidores: 2\n",
            "El numero total de conexiones entre los servidores es: 1\n"
          ]
        }
      ]
    },
    {
      "cell_type": "code",
      "source": [
        "#4. Diseñe un algoritmo que lea temperatura en grados centígrados (°C) y la convierta en grados Fahrenheit (°F) y a grados Kelvin (°K).\n",
        "def celsius_a_fahrenheit(celsius):\n",
        "    fahrenheit = (celsius * 9/5) + 32\n",
        "    return fahrenheit\n",
        "\n",
        "def celsius_a_kelvin(celsius):\n",
        "    kelvin = celsius + 273.15\n",
        "    return kelvin\n",
        "\n",
        "celsius = float(input(\"Digite la temperatura en grados Celsius: \"))\n",
        "\n",
        "fahrenheit = celsius_a_fahrenheit(celsius)\n",
        "kelvin = celsius_a_kelvin(celsius)\n",
        "\n",
        "print(f\"\\nLa temperatura en Fahrenheit es: {fahrenheit:.2f}°F\")\n",
        "print(f\"La temperatura en Kelvin es: {kelvin:.2f}K\")"
      ],
      "metadata": {
        "colab": {
          "base_uri": "https://localhost:8080/"
        },
        "id": "oMXgaAQBiiKI",
        "outputId": "81080bf6-6fbe-4a8e-ce14-d088bad06a10"
      },
      "execution_count": null,
      "outputs": [
        {
          "output_type": "stream",
          "name": "stdout",
          "text": [
            "Digite la temperatura en grados Celsius: 30\n",
            "\n",
            "La temperatura en Fahrenheit es: 86.00°F\n",
            "La temperatura en Kelvin es: 303.15K\n"
          ]
        }
      ]
    },
    {
      "cell_type": "code",
      "source": [
        "#5.\n",
        "print(\"¡Bienvenido al Robot de Atención al Cliente!\")\n",
        "articulos = {\n",
        "    \"cebolla\": 2.00,\n",
        "    \"banana\": 0.75,\n",
        "    \"huevos\": 3.75,\n",
        "    \"queso\": 2.50,\n",
        "    \"tomate\": 1.25}\n",
        "print(\"Estos son los artículos disponibles:\")\n",
        "for articulo, precio in articulos.items():\n",
        "  print(f\"- {articulo}: ${precio}\")\n",
        "peticion = input(\"¿Qué artículo desea consultar? \")\n",
        "if peticion in articulos:\n",
        "  precio = articulos[peticion]\n",
        "  print(f\"El precio de {peticion} es: ${precio}\")\n",
        "else:\n",
        "  print(\"Lo siento, no tenemos ese artículo disponible.\")\n",
        "print(\"Gracias por su consulta.\")"
      ],
      "metadata": {
        "id": "CMFlf5bKl-gm"
      },
      "execution_count": null,
      "outputs": []
    },
    {
      "cell_type": "code",
      "source": [
        "#6. Diseñe un programa que le permita calcular la resistencia total Rx.\n",
        "tipo_conexion = input(\"¿Las resistencias están en serie o en paralelo? (serie/paralelo): \").strip().lower()\n",
        "n = int(input(\"Introduce el número de resistencias: \"))\n",
        "resistencias = []\n",
        "\n",
        "for i in range(n):\n",
        "    resistencia = float(input(f\"Introduce el valor de la resistencia {i + 1} en ohmios: \"))\n",
        "    resistencias.append(resistencia)\n",
        "\n",
        "if tipo_conexion == \"serie\":\n",
        "    resistencia_total = sum(resistencias)\n",
        "\n",
        "elif tipo_conexion == \"paralelo\":\n",
        "    suma_inversos = 0\n",
        "    for resistencia in resistencias:\n",
        "        suma_inversos += 1 / resistencia\n",
        "    resistencia_total = 1 / suma_inversos if suma_inversos != 0 else float('inf')\n",
        "\n",
        "else:\n",
        "    print(\"Tipo de conexión no válido. Por favor, elige 'serie' o 'paralelo'.\")\n",
        "    resistencia_total= None\n",
        "\n",
        "if resistencia_total is not None:\n",
        "    print(f\"La resistencia total es: {resistencia_total:.2f} ohmios\")\n"
      ],
      "metadata": {
        "id": "ZbgjBzAHmRe9"
      },
      "execution_count": null,
      "outputs": []
    },
    {
      "cell_type": "code",
      "source": [
        "#7.\n",
        " n = int(input(\"¿Cuántas temperaturas deseas convertir?: \"))\n",
        "\n",
        "for i in range(n):\n",
        "    celsius = float(input(\"Ingrese la temperatura en grados Celsius (debe ser positiva): \"))\n",
        "    if celsius < 0:\n",
        "        print(\"Temperatura no válida. Debe ser positiva.\")\n",
        "    else:\n",
        "        fahrenheit = (9/5) * celsius + 32\n",
        "        kelvin = celsius + 273.15\n",
        "        print(f\"Temperatura en Fahrenheit: {fahrenheit}\")\n",
        "        print(f\"Temperatura en Kelvin: {kelvin}\")"
      ],
      "metadata": {
        "id": "0E1FrWPInZ9G"
      },
      "execution_count": null,
      "outputs": []
    },
    {
      "cell_type": "code",
      "source": [
        "#8.\n",
        "def convertir_a_12_horas(h, m):\n",
        "    \"\"\"\n",
        "    Convierte el tiempo dado por un reloj de 24 horas a un reloj de 12 horas.\n",
        "\n",
        "    Args:\n",
        "      h: Horas (0-23).\n",
        "      m: Minutos (0-59).\n",
        "\n",
        "    Returns:\n",
        "      Una tupla con las horas y minutos en formato de 12 horas y el periodo AM/PM.\n",
        "    \"\"\"\n",
        "    if h == 0:\n",
        "        h = 12\n",
        "        periodo = \"AM\"\n",
        "    elif h < 12:\n",
        "        periodo = \"AM\"\n",
        "    elif h == 12:\n",
        "        periodo = \"PM\"\n",
        "    else:\n",
        "        h -= 12\n",
        "        periodo = \"PM\"\n",
        "\n",
        "    return (h, m, periodo)\n",
        "\n",
        "horas = int(input(\"Ingrese las horas (0-23): \"))\n",
        "minutos = int(input(\"Ingrese los minutos (0-59): \"))\n",
        "\n",
        "hora_convertida, minuto_convertido, periodo = convertir_a_12_horas(horas, minutos)\n",
        "\n",
        "print(f\"La hora en formato de 12 horas es: {hora_convertida}:{minuto_convertido:02d} {periodo}\")"
      ],
      "metadata": {
        "id": "RF94EggwnhH8"
      },
      "execution_count": null,
      "outputs": []
    },
    {
      "cell_type": "code",
      "source": [
        "#9.def clasificar_carrera(codigo):\n",
        "institucion = \"Universidad Autónoma de Bucaramanga\"\n",
        "n = int(input(\"Ingrese el número de estudiantes: \"))\n",
        "for _ in range(n):\n",
        "    nombre = input(f\"Ingrese el nombre del estudiante: \")\n",
        "    codigo = input(f\"Ingrese el código del estudiante (formato UXXXX): \")\n",
        "    carrera_codigo = codigo[1:5]\n",
        "    if carrera_codigo == \"0001\":\n",
        "        carrera = \"Telecomunicaciones\"\n",
        "    elif carrera_codigo == \"0002\":\n",
        "        carrera = \"Financiera\"\n",
        "    elif carrera_codigo == \"0003\":\n",
        "        carrera = \"Mecatrónica\"\n",
        "    elif carrera_codigo == \"0004\":\n",
        "        carrera = \"Ingeniería en Sistemas\"\n",
        "    else:\n",
        "      carrera = \"Código no válido\"\n",
        "    print(f\"\\nNombre: {nombre}\")\n",
        "    print(f\"Código: {codigo}\")\n",
        "    print(f\"Carrera: {carrera}\")\n",
        "    print(f\"Institución: {institucion}\")"
      ],
      "metadata": {
        "id": "MbBJx4bzno1P"
      },
      "execution_count": null,
      "outputs": []
    },
    {
      "cell_type": "code",
      "source": [
        "#10.\n",
        "import math\n",
        "print(\"Elija la función a calcular:\")\n",
        "print(\"1. Seno\")\n",
        "print(\"2. Coseno\")\n",
        "print(\"3. Tangente\")\n",
        "opcion = int(input(\"Ingrese su opción (1, 2 o 3): \"))\n",
        "if opcion == 1:\n",
        "    x = float(input(\"Ingrese el valor de x en grados: \"))\n",
        "    seno = math.sin(math.radians(x))\n",
        "elif opcion == 2:\n",
        "    x = float(input(\"Ingrese el valor de x en grados: \"))\n",
        "    seno = math.cos(math.radians(x))\n",
        "elif opcion == 3:\n",
        "    x = float(input(\"Ingrese el valor de x en grados: \"))\n",
        "    seno = math.tan(math.radians(x))\n",
        "else:\n",
        "    print(\"Opción no válida\")\n",
        "    seno = None\n",
        "if seno is not None:\n",
        "    print(f\"El resultado de la función es: {seno}\")"
      ],
      "metadata": {
        "colab": {
          "base_uri": "https://localhost:8080/"
        },
        "id": "2_6nwxd6nzy1",
        "outputId": "f3440f07-73af-4591-c3d3-d30839925365"
      },
      "execution_count": null,
      "outputs": [
        {
          "output_type": "stream",
          "name": "stdout",
          "text": [
            "Elija la función a calcular:\n",
            "1. Seno\n",
            "2. Coseno\n",
            "3. Tangente\n",
            "Ingrese su opción (1, 2 o 3): 1\n",
            "Ingrese el valor de x en grados: 20\n",
            "El resultado de la función es: 0.3420201433256687\n"
          ]
        }
      ]
    }
  ]
}