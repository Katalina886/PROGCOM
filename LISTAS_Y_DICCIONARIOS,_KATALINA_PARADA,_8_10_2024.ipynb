{
  "nbformat": 4,
  "nbformat_minor": 0,
  "metadata": {
    "colab": {
      "provenance": []
    },
    "kernelspec": {
      "name": "python3",
      "display_name": "Python 3"
    },
    "language_info": {
      "name": "python"
    }
  },
  "cells": [
    {
      "cell_type": "code",
      "execution_count": null,
      "metadata": {
        "id": "f_snv3MxhRhO"
      },
      "outputs": [],
      "source": []
    },
    {
      "cell_type": "markdown",
      "source": [
        "BREVE DEFINICIÓN DE LISTAS\n",
        "##una lista es una colección ordenada de elementos que pueden ser de distintos tipos (números, cadenas, objetos, etc.). Se definen entre corchetes [] y los elementos están separados por comas."
      ],
      "metadata": {
        "id": "BiO4BAG6hd6t"
      }
    },
    {
      "cell_type": "markdown",
      "source": [
        "#METODOS Y EJEMPLO"
      ],
      "metadata": {
        "id": "H_MUIepHm_ip"
      }
    },
    {
      "cell_type": "code",
      "source": [
        "#1. pop: Elimina y devuelve el elemento en la posición dada\n",
        "lista1=[2,5,7,7,11,62]\n",
        "lista2=[\"Laura\",\"Katalina\",\"Parada\",\"Suarez\",\"Juan\",\"Manuel\",\"Parada\",\"Suarez\"]"
      ],
      "metadata": {
        "id": "CeRMleXUiAuC"
      },
      "execution_count": 24,
      "outputs": []
    },
    {
      "cell_type": "code",
      "source": [
        "# 2. append(): Agrega un elemento al final de la lista.\n",
        "# Agregamos un año arbitrario a la lista de fechas\n",
        "fechas=[]\n",
        "fechas.append(2024)\n",
        "print(\"1. Append:\",fechas)  # Salida: [13, 03, 06, 12, 03, 04,]\n"
      ],
      "metadata": {
        "colab": {
          "base_uri": "https://localhost:8080/"
        },
        "id": "rVZReqOnlMxg",
        "outputId": "736333bf-a452-47b0-dd86-d5fed62dadfc"
      },
      "execution_count": 25,
      "outputs": [
        {
          "output_type": "stream",
          "name": "stdout",
          "text": [
            "1. Append: [2024]\n"
          ]
        }
      ]
    },
    {
      "cell_type": "code",
      "source": [
        "# 3. extend(): Agrega múltiples elementos al final de la lista.\n",
        "# Agregamos una nueva fecha [26, 07, 20] al final de la lista de fechas\n",
        "fechas.extend([26, 7, 20])\n",
        "print(\"2. Extend:\", fechas)  # Salida: [13, 03, 06, 12, 03, 04, 2024, 26, 07, 20]\n"
      ],
      "metadata": {
        "id": "PAbzbYnLmAPs",
        "colab": {
          "base_uri": "https://localhost:8080/"
        },
        "outputId": "3638028e-8981-4384-dcd8-409d9b04b279"
      },
      "execution_count": 8,
      "outputs": [
        {
          "output_type": "stream",
          "name": "stdout",
          "text": [
            "2. Extend: [2024, 26, 7, 20]\n"
          ]
        }
      ]
    },
    {
      "cell_type": "code",
      "source": [
        "# 4. insert(): Inserta un elemento en una posición específica.\n",
        "# Insertamos un nuevo nombre en la posición 1 de la lista de nombres\n",
        "nombres=[]\n",
        "nombres.insert(1, \"juan mathias parada suarez\")\n",
        "print(\"3. Insert:\", nombres)  # Salida: ['laura katalina parada suarez', 'juan manuel parada suarez', 'juan mathias parada suarez']"
      ],
      "metadata": {
        "id": "sOdjHFRBmOdl",
        "colab": {
          "base_uri": "https://localhost:8080/"
        },
        "outputId": "91cb6333-2ab2-4591-b993-5d389846e8b7"
      },
      "execution_count": 21,
      "outputs": [
        {
          "output_type": "stream",
          "name": "stdout",
          "text": [
            "3. Insert: ['juan mathias parada suarez']\n"
          ]
        }
      ]
    },
    {
      "cell_type": "code",
      "source": [
        "# 5. remove(): Elimina la primera aparición de un elemento.\n",
        "# Eliminamos el año 2024 de la lista de fechas\n",
        "fechas.remove(2024)\n",
        "print(\"4. Remove:\", fechas)  # Salida: [13, 03, 06, 12, 03, 04, 26, 07, 20]"
      ],
      "metadata": {
        "id": "6vPq10v3mYKG",
        "colab": {
          "base_uri": "https://localhost:8080/"
        },
        "outputId": "9a6ae37f-644a-448d-ea2b-461d33b86eb6"
      },
      "execution_count": 22,
      "outputs": [
        {
          "output_type": "stream",
          "name": "stdout",
          "text": [
            "4. Remove: [7, 20, 26]\n"
          ]
        }
      ]
    },
    {
      "cell_type": "code",
      "source": [
        "# 6. index(): Devuelve el índice de la primera aparición del elemento.\n",
        "# Buscamos el índice de la primera aparición del número 7 en la lista de fechas\n",
        "indice_7 = fechas.index(7)\n",
        "print(\"6. Index del número 7:\", indice_7)\n"
      ],
      "metadata": {
        "id": "Z-74jH8zmirb",
        "colab": {
          "base_uri": "https://localhost:8080/"
        },
        "outputId": "c36e8e4e-ca65-4b8a-d4fe-317f5f95a235"
      },
      "execution_count": 10,
      "outputs": [
        {
          "output_type": "stream",
          "name": "stdout",
          "text": [
            "6. Index del número 7: 2\n"
          ]
        }
      ]
    },
    {
      "cell_type": "code",
      "source": [
        "# 7. count(): Cuenta el número de veces que aparece un elemento en la lista.\n",
        "# Contamos cuántas veces aparece el número 7 en la lista de fechas\n",
        "repetidos_7 = fechas.count(7)\n",
        "print(\"7. Count del número 7:\", repetidos_7)"
      ],
      "metadata": {
        "id": "iIuVYuZ0mlox",
        "colab": {
          "base_uri": "https://localhost:8080/"
        },
        "outputId": "310d0f6c-cca4-4d38-a109-d7e0ece25a1f"
      },
      "execution_count": 11,
      "outputs": [
        {
          "output_type": "stream",
          "name": "stdout",
          "text": [
            "7. Count del número 7: 1\n"
          ]
        }
      ]
    },
    {
      "cell_type": "code",
      "source": [
        "# 8. reverse(): Invierte el orden de los elementos en la lista.\n",
        "# Invertimos la lista de fechas\n",
        "fechas.reverse()\n",
        "print(\"8. Reverse:\", fechas)"
      ],
      "metadata": {
        "id": "t-8XKwaUmqdJ",
        "colab": {
          "base_uri": "https://localhost:8080/"
        },
        "outputId": "8f73cb72-ae12-4685-f8e3-627d9bc603ab"
      },
      "execution_count": 12,
      "outputs": [
        {
          "output_type": "stream",
          "name": "stdout",
          "text": [
            "8. Reverse: [20, 7, 26, 2024]\n"
          ]
        }
      ]
    },
    {
      "cell_type": "code",
      "source": [
        "# 9. sort(): Ordena los elementos de la lista.\n",
        "# Ordenamos la lista de fechas de menor a mayor\n",
        "fechas.sort()\n",
        "print(\"9. Sort:\", fechas)"
      ],
      "metadata": {
        "id": "aafC_zLJms4c",
        "colab": {
          "base_uri": "https://localhost:8080/"
        },
        "outputId": "9d32b2f1-4c70-41bd-fb22-444a5d59fd6c"
      },
      "execution_count": 20,
      "outputs": [
        {
          "output_type": "stream",
          "name": "stdout",
          "text": [
            "9. Sort: [7, 20, 26, 2024]\n"
          ]
        }
      ]
    },
    {
      "cell_type": "code",
      "source": [
        "# 10. clear(): Elimina todos los elementos de la lista.\n",
        "# Limpiamos todos los elementos de la lista de nombres\n",
        "nombres.clear()\n",
        "print(\"10. Clear:\", nombres)"
      ],
      "metadata": {
        "id": "hixdZ7RwmvnL",
        "colab": {
          "base_uri": "https://localhost:8080/"
        },
        "outputId": "464b4ca4-97ac-475f-cc6b-058595da303f"
      },
      "execution_count": 23,
      "outputs": [
        {
          "output_type": "stream",
          "name": "stdout",
          "text": [
            "10. Clear: []\n"
          ]
        }
      ]
    },
    {
      "cell_type": "markdown",
      "source": [
        "#Breve definicon de diccionarios\n",
        "\n"
      ],
      "metadata": {
        "id": "d-x7Ni4VnDCL"
      }
    },
    {
      "cell_type": "code",
      "source": [
        "# Definición de los diccionarios\n",
        "dic1 = {\"nombre\": \"Katalina\", \"apellido1\": \"Parada\"}\n",
        "dic2 = {\"dia\": 13, \"mes\": 3, \"año\": 2006}"
      ],
      "metadata": {
        "id": "4j5b2yasoB6b"
      },
      "execution_count": 14,
      "outputs": []
    },
    {
      "cell_type": "markdown",
      "source": [
        "#METODOS Y EJEMPLO"
      ],
      "metadata": {
        "id": "O-7rr4hln3qW"
      }
    },
    {
      "cell_type": "code",
      "source": [
        "# 1. get(): Obtiene el valor de una clave especificada.\n",
        "nombre = dic1.get(\"nombre\")\n",
        "print(\"1. Get nombre:\", nombre)  # Salida: \"Katalina\""
      ],
      "metadata": {
        "id": "nwLATmOJn1q2",
        "colab": {
          "base_uri": "https://localhost:8080/"
        },
        "outputId": "757aeb08-2703-49a6-cc96-24137c4e1950"
      },
      "execution_count": 16,
      "outputs": [
        {
          "output_type": "stream",
          "name": "stdout",
          "text": [
            "1. Get nombre: Katalina\n"
          ]
        }
      ]
    },
    {
      "cell_type": "code",
      "source": [
        "# 2. keys(): Devuelve una vista de todas las claves del diccionario.\n",
        "claves_dic1 = dic1.keys()\n",
        "print(\"2. Keys dic1:\", list(claves_dic1))  # Salida: ['nombre', 'apellido1']"
      ],
      "metadata": {
        "id": "pILls5ShpdYb"
      },
      "execution_count": null,
      "outputs": []
    },
    {
      "cell_type": "code",
      "source": [
        "# 3. values(): Devuelve una vista de todos los valores del diccionario.\n",
        "valores_dic1 = dic1.values()\n",
        "print(\"3. Values dic1:\", list(valores_dic1))  # Salida: ['katalina', 'Parada']\n"
      ],
      "metadata": {
        "id": "4rRKDKOOprBs",
        "colab": {
          "base_uri": "https://localhost:8080/"
        },
        "outputId": "932972c1-fbdb-4f05-849d-d4789f1ec83e"
      },
      "execution_count": 15,
      "outputs": [
        {
          "output_type": "stream",
          "name": "stdout",
          "text": [
            "3. Values dic1: ['Katalina', 'Parada']\n"
          ]
        }
      ]
    },
    {
      "cell_type": "code",
      "source": [
        "# 4. items(): Devuelve una vista de los pares clave-valor del diccionario.\n",
        "items_dic1 = dic1.items()\n",
        "print(\"4. Items dic1:\", list(items_dic1))  # Salida: [('nombre', 'Katalina'), ('apellido1', 'Parada')]\n"
      ],
      "metadata": {
        "id": "eDVmGBq1pt6L"
      },
      "execution_count": null,
      "outputs": []
    },
    {
      "cell_type": "code",
      "source": [
        "# 5. update(): Actualiza el diccionario con otro diccionario o con pares clave-valor.\n",
        "dic1.update({\"apellido2\": \"Molina\"})\n",
        "print(\"5. Update dic1:\", dic1)  # Salida: {'nombre': 'Katalina', 'apellido1': 'Parada', 'apellido2': 'Suarez'}\n"
      ],
      "metadata": {
        "id": "b05Yr1h8pwFM"
      },
      "execution_count": null,
      "outputs": []
    },
    {
      "cell_type": "code",
      "source": [
        "# 6. pop(): Elimina y devuelve el valor de una clave especificada.\n",
        "apellido1 = dic1.pop(\"apellido1\")\n",
        "print(\"6. Pop apellido1:\", apellido1)  # Salida: 'Parada'\n",
        "print(\"6. Dic1 después del pop:\", dic1)  # Salida: {'nombre': 'Katalina', 'apellido2': 'Suarez'}"
      ],
      "metadata": {
        "id": "RyqUXm-spybU"
      },
      "execution_count": null,
      "outputs": []
    },
    {
      "cell_type": "code",
      "source": [
        "# 7. popitem(): Elimina y devuelve el último par clave-valor agregado.\n",
        "ultimo_item = dic1.popitem()\n",
        "print(\"7. Popitem:\", ultimo_item)  # Salida: ('apellido2', 'Suarez')\n",
        "print(\"7. Dic1 después del popitem:\", dic1)  # Salida: {'nombre': 'Katalina'}"
      ],
      "metadata": {
        "id": "62BUhgbOp8pb"
      },
      "execution_count": null,
      "outputs": []
    },
    {
      "cell_type": "code",
      "source": [
        "# 8. clear(): Elimina todos los elementos del diccionario.\n",
        "dic1.clear()\n",
        "print(\"8. Clear dic1:\", dic1)  # Salida: {}"
      ],
      "metadata": {
        "id": "dP6wE0pIp9TU"
      },
      "execution_count": null,
      "outputs": []
    },
    {
      "cell_type": "code",
      "source": [
        "# 9. copy(): Devuelve una copia superficial del diccionario.\n",
        "dic2_copia = dic2.copy()\n",
        "print(\"9. Copy dic2:\", dic2_copia)  # Salida: {'dia': 13, 'mes': 03, 'año': 2006}"
      ],
      "metadata": {
        "id": "JPCPrhmhp_zT",
        "colab": {
          "base_uri": "https://localhost:8080/"
        },
        "outputId": "5b2c116e-e2d5-4af9-9270-71fb33ffaa7d"
      },
      "execution_count": 18,
      "outputs": [
        {
          "output_type": "stream",
          "name": "stdout",
          "text": [
            "9. Copy dic2: {'dia': 13, 'mes': 3, 'año': 2006}\n"
          ]
        }
      ]
    },
    {
      "cell_type": "code",
      "source": [
        "# 10. setdefault(): Devuelve el valor de una clave, y si no existe, la agrega con un valor predeterminado.\n",
        "año = dic2.setdefault(\"año\", 2023)  # No se agrega porque ya existe\n",
        "print(\"10. Setdefault año:\", año)  # Salida: 2007\n",
        "print(\"10. Dic2 después del setdefault:\", dic2)  # Salida: {'dia': 13, 'mes': 03, 'año': 2006}"
      ],
      "metadata": {
        "id": "f-BuoGXQqBwX",
        "colab": {
          "base_uri": "https://localhost:8080/"
        },
        "outputId": "7b4d22a7-8e94-42ef-f81f-76780d9866a4"
      },
      "execution_count": 17,
      "outputs": [
        {
          "output_type": "stream",
          "name": "stdout",
          "text": [
            "10. Setdefault año: 2006\n",
            "10. Dic2 después del setdefault: {'dia': 13, 'mes': 3, 'año': 2006}\n"
          ]
        }
      ]
    },
    {
      "cell_type": "markdown",
      "source": [
        "#EJERCICIOS LISTAS - DICCIONARIOS"
      ],
      "metadata": {
        "id": "OJyN7y_9rWjw"
      }
    },
    {
      "cell_type": "code",
      "source": [
        "#Ejercicio 1\n",
        "list1 = [100, 200, 300, 400, 500]\n",
        "list1.reverse()\n",
        "print(list1)\n"
      ],
      "metadata": {
        "colab": {
          "base_uri": "https://localhost:8080/"
        },
        "id": "Zgu_mQHkrbU1",
        "outputId": "71801a62-ca64-49a4-c5f1-982e4c34daea"
      },
      "execution_count": null,
      "outputs": [
        {
          "output_type": "stream",
          "name": "stdout",
          "text": [
            "[500, 400, 300, 200, 100]\n"
          ]
        }
      ]
    },
    {
      "cell_type": "code",
      "source": [
        "#Ejercicio 2\n",
        "lista1 = [\"M\", \"nom\", \"e\", \"e\"]\n",
        "lista2 = [\"i\", \"bre\", \"s\", \"quis\"]\n",
        "lista_unida = [a + b for a, b in zip(lista1, lista2)]\n",
        "print(lista_unida)\n"
      ],
      "metadata": {
        "colab": {
          "base_uri": "https://localhost:8080/"
        },
        "id": "GF1uat3erm8s",
        "outputId": "899262b3-2ef3-4197-8f4e-4e2e936eb8ba"
      },
      "execution_count": null,
      "outputs": [
        {
          "output_type": "stream",
          "name": "stdout",
          "text": [
            "['Mi', 'nombre', 'es', 'equis']\n"
          ]
        }
      ]
    },
    {
      "cell_type": "code",
      "source": [
        "#Ejercicio 3\n",
        "lista = [1, 2, 3, 4, 5, 6, 7]\n",
        "doble_lista = [x ** 2 for x in lista]\n",
        "print(doble_lista)\n"
      ],
      "metadata": {
        "colab": {
          "base_uri": "https://localhost:8080/"
        },
        "id": "A9utexImr7vx",
        "outputId": "d3b9469b-4a70-465f-ff07-66c0fcbe5a31"
      },
      "execution_count": null,
      "outputs": [
        {
          "output_type": "stream",
          "name": "stdout",
          "text": [
            "[1, 4, 9, 16, 25, 36, 49]\n"
          ]
        }
      ]
    },
    {
      "cell_type": "code",
      "source": [
        "#Ejercicio 5\n",
        "list1 = [10, 20, 30, 40]\n",
        "list2 = [100, 200, 300, 400]\n",
        "for a, b in zip(list1, reversed(list2)):\n",
        "    print(a, b)\n",
        "\n"
      ],
      "metadata": {
        "colab": {
          "base_uri": "https://localhost:8080/"
        },
        "id": "Lg0iCtugsBO9",
        "outputId": "3835ad40-58bb-4e45-8c67-33433aec28dc"
      },
      "execution_count": null,
      "outputs": [
        {
          "output_type": "stream",
          "name": "stdout",
          "text": [
            "10 400\n",
            "20 300\n",
            "30 200\n",
            "40 100\n"
          ]
        }
      ]
    },
    {
      "cell_type": "code",
      "source": [
        "#Ejercicio 6\n",
        "lista = [\"Mike\", \"\", \"Emma\", \"Kelly\", \"\", \"Brad\"]\n",
        "lista_sin_vacios = [x for x in lista if x]\n",
        "print(lista_sin_vacios)\n"
      ],
      "metadata": {
        "colab": {
          "base_uri": "https://localhost:8080/"
        },
        "id": "zpivrcIqsY40",
        "outputId": "6d19a1a0-31d5-4ab8-ea64-25dbcfbd56c5"
      },
      "execution_count": null,
      "outputs": [
        {
          "output_type": "stream",
          "name": "stdout",
          "text": [
            "['Mike', 'Emma', 'Kelly', 'Brad']\n"
          ]
        }
      ]
    },
    {
      "cell_type": "code",
      "source": [
        "#Ejercicio 7\n",
        "lista = [10, 20, [300, 400, [5000, 6000], 500], 30, 40]\n",
        "lista[2][2].append(7000)\n",
        "print(lista)"
      ],
      "metadata": {
        "colab": {
          "base_uri": "https://localhost:8080/"
        },
        "id": "0VmMFxUytXED",
        "outputId": "004ee3b7-6280-4d76-aca0-6a6e1e4903ca"
      },
      "execution_count": null,
      "outputs": [
        {
          "output_type": "stream",
          "name": "stdout",
          "text": [
            "[10, 20, [300, 400, [5000, 6000, 7000], 500], 30, 40]\n"
          ]
        }
      ]
    }
  ]
}