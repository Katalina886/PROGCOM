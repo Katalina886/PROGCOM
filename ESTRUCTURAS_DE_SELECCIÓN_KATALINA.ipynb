{
  "nbformat": 4,
  "nbformat_minor": 0,
  "metadata": {
    "colab": {
      "provenance": []
    },
    "kernelspec": {
      "name": "python3",
      "display_name": "Python 3"
    },
    "language_info": {
      "name": "python"
    }
  },
  "cells": [
    {
      "cell_type": "markdown",
      "source": [
        "#ESTRUCTURAS DE SELECCIÓN\n",
        "1. Si-sino: if - else\n",
        "2. Operador terniario\n",
        "3. Estructura switch\n",
        "- if/elif/else\n",
        "-match-case\n"
      ],
      "metadata": {
        "id": "RZHOlvyxDzCy"
      }
    },
    {
      "cell_type": "code",
      "execution_count": 19,
      "metadata": {
        "colab": {
          "base_uri": "https://localhost:8080/"
        },
        "id": "eo8JknlpAQ9R",
        "outputId": "ca116a67-d839-4112-fe37-c2e981a0ad86"
      },
      "outputs": [
        {
          "output_type": "stream",
          "name": "stdout",
          "text": [
            "Quieres aprender a programar :si\n",
            "Empieza haciendo ejercicios\n"
          ]
        }
      ],
      "source": [
        "#Las dos variables no eran iguales (respuesta - Respuesta)\n",
        "#Las variables se escriben minuscula\n",
        "# if y else van en minuscula\n",
        "respuesta=input(\"Quieres aprender a programar :\")\n",
        "if respuesta==\"si\":\n",
        "  #estamos dentrop del si\n",
        "  print(\"Empieza haciendo ejercicios\")\n",
        "else:\n",
        "  #Estamos dentro del sino\n",
        "  print(\"Reconnsideralo\")"
      ]
    },
    {
      "cell_type": "code",
      "source": [
        "#EJECICIO 3 Definir si un numero es mayor que n y menor o igual que m\n",
        "n=int(input(\"Ingrese un número\"))\n",
        "m=int(input(\"Ingrese un número\"))\n"
      ],
      "metadata": {
        "colab": {
          "base_uri": "https://localhost:8080/"
        },
        "id": "yRCO819QG3RW",
        "outputId": "e676f794-e90d-48ee-b9bc-674133f4e407"
      },
      "execution_count": 44,
      "outputs": [
        {
          "name": "stdout",
          "output_type": "stream",
          "text": [
            "Ingrese un número5\n",
            "Ingrese un número8\n"
          ]
        }
      ]
    },
    {
      "cell_type": "code",
      "source": [
        "x=int(input(\"Ingrese otro numero\"))\n",
        "if x>n and x<=m:\n",
        "    print(f\"El numero {x} es mayor que {n} y menor o igual que {m}\")\n",
        "else:\n",
        "  print(f\"El numero {x} no es mayor que {n} y menor o igual que {m}\")"
      ],
      "metadata": {
        "colab": {
          "base_uri": "https://localhost:8080/"
        },
        "id": "ZPsxtWPWIhYN",
        "outputId": "ab998ae1-0bc7-456e-e46a-6301f63e3045"
      },
      "execution_count": 45,
      "outputs": [
        {
          "output_type": "stream",
          "name": "stdout",
          "text": [
            "Ingrese otro numero8\n",
            "El numero 8 es mayor que 5 y menor o igual que 8\n"
          ]
        }
      ]
    },
    {
      "cell_type": "code",
      "source": [
        "x=int(input(\"Ingrese otro numero\"))\n",
        "if x>n and x<=m:\n",
        "  print(f\"El numero {x} es mayor que {n} y menor o igual que {m}\")\n",
        "elif  x>n and x>m:\n",
        "  print(f\"El numero {x} es mayor que {n} y menor o igual que {m}\")\n",
        "elif x<n and x<m:\n",
        "  print(f\"El numero {x} no es mayor que {n} pero menor o igual que {m}\")\n",
        "else:\n",
        "  print(f\"El numero {x} no es mayor que {n} y menor o igual que {m}\")"
      ],
      "metadata": {
        "colab": {
          "base_uri": "https://localhost:8080/"
        },
        "id": "hgojQOGAM20w",
        "outputId": "2982ee09-6a8b-47d5-a897-784ca9cbb070"
      },
      "execution_count": 29,
      "outputs": [
        {
          "output_type": "stream",
          "name": "stdout",
          "text": [
            "Ingrese otro numero16\n",
            "El numero 16 es mayor que 5 y menor o igual que 8\n"
          ]
        }
      ]
    },
    {
      "cell_type": "code",
      "source": [
        "#definir si una letra es m o no\n",
        "letra=input(\"Ingrese una letra:\")\n",
        "if letra==\"m\" or letra==\"M\":\n",
        "  print(\"Ingresaste una m\")\n",
        "else: print(\"No ingresaste una m\")"
      ],
      "metadata": {
        "colab": {
          "base_uri": "https://localhost:8080/"
        },
        "id": "Xs6D_LlqOvwX",
        "outputId": "2e1a054d-76ee-49da-d582-3c6ed284dd09"
      },
      "execution_count": 33,
      "outputs": [
        {
          "output_type": "stream",
          "name": "stdout",
          "text": [
            "Ingrese una letra:M\n",
            "Ingresaste una m\n"
          ]
        }
      ]
    },
    {
      "cell_type": "code",
      "source": [
        "#definir si una letra es m o no. Modo Professional\n",
        "letra=input(\"Ingrese una letra:\").lower()\n",
        "if letra==\"m\"\n",
        "  print(\"Ingresaste una m\")\n",
        "else: print(\"No ingresaste una m\")"
      ],
      "metadata": {
        "id": "T1gkRHo-Pt_q"
      },
      "execution_count": null,
      "outputs": []
    },
    {
      "cell_type": "code",
      "source": [
        "#6. Restar en uno una variable si es menor que 5\n",
        "numero=int(input(\"Ingrese un numero\"))\n",
        "if numero<5: print(f\"El nuevo numero es {numero-1}\")"
      ],
      "metadata": {
        "colab": {
          "base_uri": "https://localhost:8080/"
        },
        "id": "gXA1ozdHQDvF",
        "outputId": "89ebe854-00c5-4e45-f06c-07bef4a381fe"
      },
      "execution_count": 34,
      "outputs": [
        {
          "output_type": "stream",
          "name": "stdout",
          "text": [
            "Ingrese un numero4\n",
            "El nuevo numero es 3\n"
          ]
        }
      ]
    },
    {
      "cell_type": "code",
      "source": [
        "#1. Dividir dos numeros siempre y cuando el denominador no sea 0.\n",
        "def dividir_numeros(numerador, denominador):\n",
        "    if denominador != 0:\n",
        "        resultado = numerador / denominador\n",
        "        print(f\"El resultado de la división de {numerador} entre {denominador} es: {resultado}\")\n",
        "    else:\n",
        "        print(\"Error: No se puede dividir entre cero.\")\n",
        "numerador = 10\n",
        "denominador = 3\n",
        "dividir_numeros(numerador, denominador)\n"
      ],
      "metadata": {
        "colab": {
          "base_uri": "https://localhost:8080/"
        },
        "id": "hsXwMC8CRKgM",
        "outputId": "b273e3b8-23ef-4d3d-828b-f962246b4827"
      },
      "execution_count": 52,
      "outputs": [
        {
          "output_type": "stream",
          "name": "stdout",
          "text": [
            "El resultado de la división de 10 entre 3 es: 3.3333333333333335\n"
          ]
        }
      ]
    },
    {
      "cell_type": "code",
      "source": [
        "#2. Definir si un numero es mayor que 5 y menor a 15.\n",
        "def verificar_rango(numero):\n",
        "    if 5 < numero < 15:\n",
        "        print(f\"El número {numero} es mayor que 5 y menor que 15.\")\n",
        "    else:\n",
        "        print(f\"El número {numero} no está en el rango mayor que 5 y menor que 15.\")\n",
        "numero = 9\n",
        "verificar_rango(numero)"
      ],
      "metadata": {
        "colab": {
          "base_uri": "https://localhost:8080/"
        },
        "id": "DBig-91LSHFb",
        "outputId": "6632d872-b704-463f-f9c8-2f764c29e5be"
      },
      "execution_count": 51,
      "outputs": [
        {
          "output_type": "stream",
          "name": "stdout",
          "text": [
            "El número 9 es mayor que 5 y menor que 15.\n"
          ]
        }
      ]
    },
    {
      "cell_type": "code",
      "source": [
        "#5. Verificar si un numero es par o impar\n",
        "def verificar_par_o_impar(numero):\n",
        "    if numero % 2 == 0:\n",
        "        print(f\"El número {numero} es par.\")\n",
        "    else:\n",
        "        print(f\"El número {numero} es impar.\")\n",
        "numero = 253\n",
        "verificar_par_o_impar(numero)\n"
      ],
      "metadata": {
        "colab": {
          "base_uri": "https://localhost:8080/"
        },
        "id": "haJ3q7_UTJIK",
        "outputId": "c64997fe-2b5f-4fff-b9af-3ac67adc93fa"
      },
      "execution_count": 47,
      "outputs": [
        {
          "output_type": "stream",
          "name": "stdout",
          "text": [
            "El número 253 es impar.\n"
          ]
        }
      ]
    },
    {
      "cell_type": "code",
      "source": [
        "respuesta=input(\"Deseas aprender a programar?\").capitalize()\n",
        "print(\"Empieza a hacer ejercicios\") if respuesta==\"Si\" else print(\"Reconsidéralo\")"
      ],
      "metadata": {
        "colab": {
          "base_uri": "https://localhost:8080/"
        },
        "id": "Hj0sg0eYVl9W",
        "outputId": "d7585f36-7ef9-4d9c-9fd2-3ad03bdd6f29"
      },
      "execution_count": 54,
      "outputs": [
        {
          "output_type": "stream",
          "name": "stdout",
          "text": [
            "Deseas aprender a programar?Si\n",
            "Empieza a hacer ejercicios\n"
          ]
        }
      ]
    },
    {
      "cell_type": "markdown",
      "source": [
        "##Operador terniario\n",
        "1. Accion si se cumple la condición\n",
        "2. La condición\n",
        "3. else\n",
        "4. Acción si no se cumple la condición\n",
        "1-2-3-4"
      ],
      "metadata": {
        "id": "bT3usfNxW3mY"
      }
    },
    {
      "cell_type": "code",
      "source": [
        "b=\"ingresaste una m\" if letra==\"m\" or letra==\"M\" else \"No ingresaste una m\""
      ],
      "metadata": {
        "id": "QTPmfFaEWK2H"
      },
      "execution_count": 55,
      "outputs": []
    },
    {
      "cell_type": "code",
      "source": [
        "#1. Dividir dos números siempre y cuando el denominador no sea 0\n",
        "def dividir_numeros(numerador, denominador):\n",
        "    resultado = numerador / denominador if denominador != 0 else \"Error: No se puede dividir entre cero.\"\n",
        "    print(resultado)\n",
        "numerador = 8\n",
        "denominador = 6\n",
        "dividir_numeros(numerador, denominador)\n"
      ],
      "metadata": {
        "colab": {
          "base_uri": "https://localhost:8080/"
        },
        "id": "U54K1K-OX2z-",
        "outputId": "069a7c77-b550-45b1-e8de-ffa6a3967122"
      },
      "execution_count": 57,
      "outputs": [
        {
          "output_type": "stream",
          "name": "stdout",
          "text": [
            "1.3333333333333333\n"
          ]
        }
      ]
    },
    {
      "cell_type": "code",
      "source": [
        "#2. Definir si un número es mayor que 5 y menor a 15.\n",
        "def verificar_rango(numero):\n",
        "    mensaje = f\"El número {numero} es mayor que 5 y menor que 15.\" if 5 < numero < 15 else f\"El número {numero} no está en el rango mayor que 5 y menor que 15.\"\n",
        "    print(mensaje)\n",
        "numero = 14\n",
        "verificar_rango(numero)"
      ],
      "metadata": {
        "colab": {
          "base_uri": "https://localhost:8080/"
        },
        "id": "tfbznPdlY9jO",
        "outputId": "1e835dd2-8eb9-4c00-850a-103529b25189"
      },
      "execution_count": 60,
      "outputs": [
        {
          "output_type": "stream",
          "name": "stdout",
          "text": [
            "El número 14 es mayor que 5 y menor que 15.\n"
          ]
        }
      ]
    },
    {
      "cell_type": "code",
      "source": [
        "#3. Definir si un número es mayor que n o menor e igual que m\n",
        "def verificar_condicion(numero, n, m):\n",
        "    mensaje = f\"El número {numero} es mayor que {n} o menor o igual que {m}.\" if numero > n or numero <= m else f\"El número {numero} no cumple la condición de ser mayor que {n} o menor o igual que {m}.\"\n",
        "    print(mensaje)\n",
        "numero = 10\n",
        "n = 5\n",
        "m = 8\n",
        "verificar_condicion(numero, n, m)\n"
      ],
      "metadata": {
        "colab": {
          "base_uri": "https://localhost:8080/"
        },
        "id": "5Vrgb2CpZsM0",
        "outputId": "911f7a8c-64f2-4777-c776-9fbfd79346dc"
      },
      "execution_count": 65,
      "outputs": [
        {
          "output_type": "stream",
          "name": "stdout",
          "text": [
            "El número 10 es mayor que 5 o menor o igual que 8.\n"
          ]
        }
      ]
    },
    {
      "cell_type": "code",
      "source": [
        "#4.Definir si una letra es m o no\n",
        "def verificar_letra(letra):\n",
        "    mensaje = \"La letra es 'm'.\" if letra == 'm' else \"La letra no es 'm'.\"\n",
        "    print(mensaje)\n",
        "letra = 'm'\n",
        "verificar_letra(letra)"
      ],
      "metadata": {
        "colab": {
          "base_uri": "https://localhost:8080/"
        },
        "id": "cogYj1zkaXQi",
        "outputId": "fe087cec-7154-4a27-f70a-76a9f4929efc"
      },
      "execution_count": 62,
      "outputs": [
        {
          "output_type": "stream",
          "name": "stdout",
          "text": [
            "La letra es 'm'.\n"
          ]
        }
      ]
    },
    {
      "cell_type": "code",
      "source": [
        "#5.Verificar si un número es par o impar.\n",
        "def verificar_par_o_impar(numero):\n",
        "    resultado = \"par\" if numero % 2 == 0 else \"impar\"\n",
        "    print(f\"El número {numero} es {resultado}.\")\n",
        "numero = 1003\n",
        "verificar_par_o_impar(numero)"
      ],
      "metadata": {
        "colab": {
          "base_uri": "https://localhost:8080/"
        },
        "id": "hauco6t9a4WC",
        "outputId": "cf120b4e-3c32-490a-f9aa-daa39ad801b8"
      },
      "execution_count": 64,
      "outputs": [
        {
          "output_type": "stream",
          "name": "stdout",
          "text": [
            "El número 1003 es impar.\n"
          ]
        }
      ]
    },
    {
      "cell_type": "code",
      "source": [
        "#6. Decrementa en 1 una unidad, si x es mayor que 5\n",
        "def decrementar_si_mayor_que_5(x):\n",
        "    x = x - 1 if x > 5 else x\n",
        "    print(f\"El valor de x es: {x}\")\n",
        "x = 20\n",
        "decrementar_si_mayor_que_5(x)"
      ],
      "metadata": {
        "colab": {
          "base_uri": "https://localhost:8080/"
        },
        "id": "A8HHr1x1cOki",
        "outputId": "614215b6-9b83-4fb8-e301-1653e9ca9951"
      },
      "execution_count": 67,
      "outputs": [
        {
          "output_type": "stream",
          "name": "stdout",
          "text": [
            "El valor de x es: 19\n"
          ]
        }
      ]
    }
  ]
}